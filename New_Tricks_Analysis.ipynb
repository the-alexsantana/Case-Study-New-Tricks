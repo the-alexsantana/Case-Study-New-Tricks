{
 "cells": [
  {
   "cell_type": "code",
   "execution_count": 1,
   "metadata": {},
   "outputs": [],
   "source": [
    "# New Tricks Data Analysis\n",
    "# ------------------------\n",
    "\n",
    "# Assignment\n",
    "# ----------\n",
    "# The attached .txt files contain client registration data collected by New Tricks, \n",
    "# a wildly popular (and fictitious) network of canine training academies located in the New York City area. \n",
    "# Their legacy registration system has limited reporting capabilities and can only export records in a very raw format. \n",
    "# The New Tricks marketing team wants to use their historical client data \n",
    "# to inform future promotional campaigns, so they've hired you to help interpret it!\n",
    "\n",
    "# Objectives\n",
    "# ----------\n",
    "# 1. The team wants to advertise the total number of students served on the front page of their website. \n",
    "# They were hoping to add up the total in their legacy exports but weren't sure how to work with the format. \n",
    "# It also looked like the same students were sometimes showing up more than once. Please provide the following:\n",
    "\n",
    "# a) Calculate the total number of canine students.\n",
    "# b) Describe how you dealt with the format of the files.\n",
    "# c) Explain how you arrived at the total.\n",
    "\n",
    "# 2. Next, the team is looking to kick off a campaign promoting the newly reduced rate for their Gold-level course package. \n",
    "# They want to reach out to the owners of all students who have recently registered for a Gold-Level package to see \n",
    "# if they'd be interested in being featured in the campaign.\n",
    "\n",
    "# Please use the information in the exports to create a list of all of the students who have registered for a Gold Package since 1 January 2019. \n",
    "# They just need to know the students' unique ID numbers so they can look up their contact info in the system. \n",
    "# You can attach the list in any format.\n",
    "\n",
    "# 3. New Tricks also wants to grow the size of their mixed breed client base. \n",
    "# To that end, they'd like to know which branch areas are seeing the least amount of mixed-breed students coming in.\n",
    "\n",
    "# Please use the information in the exports along with the zip code region ranges table to \n",
    "# determine which two regions have the smallest percentage of registrations by students classified in the system as \"Mixed/Other\". \n",
    "# They'd also like to know what methods you used to come up with the answer. \n",
    "\n",
    "# 4. Lastly, the team isn't entirely confident in the capabilities of their legacy system, \n",
    "# so they just want to know if you think they can trust the information in these exports. \n",
    "# Based on your work with the files, did you notice any red flags that might cause you to doubt the integrity of the data? \n",
    "# Any specific details you can provide to back your answer should help to put them at ease!\n"
   ]
  },
  {
   "cell_type": "code",
   "execution_count": 2,
   "metadata": {},
   "outputs": [],
   "source": [
    "# Step 1: Import the libraries\n",
    "import pandas as pd\n",
    "import numpy as np\n",
    "from datetime import datetime"
   ]
  },
  {
   "cell_type": "code",
   "execution_count": 3,
   "metadata": {
    "scrolled": true
   },
   "outputs": [
    {
     "data": {
      "text/html": [
       "<div>\n",
       "<style scoped>\n",
       "    .dataframe tbody tr th:only-of-type {\n",
       "        vertical-align: middle;\n",
       "    }\n",
       "\n",
       "    .dataframe tbody tr th {\n",
       "        vertical-align: top;\n",
       "    }\n",
       "\n",
       "    .dataframe thead th {\n",
       "        text-align: right;\n",
       "    }\n",
       "</style>\n",
       "<table border=\"1\" class=\"dataframe\">\n",
       "  <thead>\n",
       "    <tr style=\"text-align: right;\">\n",
       "      <th></th>\n",
       "      <th>ID</th>\n",
       "      <th>package</th>\n",
       "      <th>registrant_ID</th>\n",
       "      <th>registration_date</th>\n",
       "    </tr>\n",
       "  </thead>\n",
       "  <tbody>\n",
       "    <tr>\n",
       "      <th>0</th>\n",
       "      <td>239</td>\n",
       "      <td>Standard</td>\n",
       "      <td>788900239</td>\n",
       "      <td>8262007</td>\n",
       "    </tr>\n",
       "    <tr>\n",
       "      <th>1</th>\n",
       "      <td>240</td>\n",
       "      <td>Free Trial</td>\n",
       "      <td>788900240</td>\n",
       "      <td>5272006</td>\n",
       "    </tr>\n",
       "    <tr>\n",
       "      <th>2</th>\n",
       "      <td>241</td>\n",
       "      <td>Standard</td>\n",
       "      <td>788900241</td>\n",
       "      <td>9012006</td>\n",
       "    </tr>\n",
       "    <tr>\n",
       "      <th>3</th>\n",
       "      <td>242</td>\n",
       "      <td>Standard</td>\n",
       "      <td>788900242</td>\n",
       "      <td>6101995</td>\n",
       "    </tr>\n",
       "    <tr>\n",
       "      <th>4</th>\n",
       "      <td>243</td>\n",
       "      <td>Standard</td>\n",
       "      <td>788900243</td>\n",
       "      <td>2191997</td>\n",
       "    </tr>\n",
       "  </tbody>\n",
       "</table>\n",
       "</div>"
      ],
      "text/plain": [
       "    ID     package registrant_ID registration_date\n",
       "0  239    Standard     788900239           8262007\n",
       "1  240  Free Trial     788900240           5272006\n",
       "2  241    Standard     788900241           9012006\n",
       "3  242    Standard     788900242           6101995\n",
       "4  243    Standard     788900243           2191997"
      ]
     },
     "execution_count": 3,
     "metadata": {},
     "output_type": "execute_result"
    }
   ],
   "source": [
    "# Step 2: Read the dataset: Registrations\n",
    "dfregs = pd.read_csv('/Users/Mac/Desktop/Greenhouse/new_tricks/registrations.csv')\n",
    "\n",
    "# Clean the header columns\n",
    "dfregs.columns = dfregs.columns.str.replace('[<,>]', '')\n",
    "\n",
    "# Clean the records\n",
    "dfregs = dfregs.replace({'<':'', '>':''}, regex=True)\n",
    "\n",
    "dfregs.head()"
   ]
  },
  {
   "cell_type": "code",
   "execution_count": 4,
   "metadata": {},
   "outputs": [
    {
     "name": "stdout",
     "output_type": "stream",
     "text": [
      "<class 'pandas.core.frame.DataFrame'>\n",
      "Int64Index: 81539 entries, 0 to 81538\n",
      "Data columns (total 4 columns):\n",
      " #   Column             Non-Null Count  Dtype \n",
      "---  ------             --------------  ----- \n",
      " 0   ID                 81539 non-null  object\n",
      " 1   package            81539 non-null  object\n",
      " 2   registrant_ID      81539 non-null  object\n",
      " 3   registration_date  81539 non-null  object\n",
      "dtypes: object(4)\n",
      "memory usage: 3.1+ MB\n"
     ]
    }
   ],
   "source": [
    "# Remove duplicate entries\n",
    "dfregsdrop = dfregs.drop_duplicates()\n",
    "\n",
    "dfregsdrop.info()"
   ]
  },
  {
   "cell_type": "code",
   "execution_count": 5,
   "metadata": {},
   "outputs": [],
   "source": [
    "# Convert columns from object to integer\n",
    "dfregs['ID'] = dfregs['ID'].astype(int)\n",
    "\n",
    "dfregs['registrant_ID'] = dfregs['registrant_ID'].astype(int)\n",
    "\n",
    "dfregs['registration_date'] = dfregs['registration_date'].astype(int)"
   ]
  },
  {
   "cell_type": "code",
   "execution_count": 6,
   "metadata": {},
   "outputs": [
    {
     "data": {
      "text/html": [
       "<div>\n",
       "<style scoped>\n",
       "    .dataframe tbody tr th:only-of-type {\n",
       "        vertical-align: middle;\n",
       "    }\n",
       "\n",
       "    .dataframe tbody tr th {\n",
       "        vertical-align: top;\n",
       "    }\n",
       "\n",
       "    .dataframe thead th {\n",
       "        text-align: right;\n",
       "    }\n",
       "</style>\n",
       "<table border=\"1\" class=\"dataframe\">\n",
       "  <thead>\n",
       "    <tr style=\"text-align: right;\">\n",
       "      <th></th>\n",
       "      <th>registrant_ID</th>\n",
       "      <th>dog_name</th>\n",
       "      <th>gender</th>\n",
       "      <th>breed</th>\n",
       "      <th>dob</th>\n",
       "      <th>dominant_color</th>\n",
       "      <th>secondary_color</th>\n",
       "      <th>zip_code</th>\n",
       "    </tr>\n",
       "  </thead>\n",
       "  <tbody>\n",
       "    <tr>\n",
       "      <th>0</th>\n",
       "      <td>788905773</td>\n",
       "      <td>Shakespere</td>\n",
       "      <td>M</td>\n",
       "      <td>Labrador Retriever Crossbreed</td>\n",
       "      <td>41066</td>\n",
       "      <td>White</td>\n",
       "      <td>Tan</td>\n",
       "      <td>10308</td>\n",
       "    </tr>\n",
       "    <tr>\n",
       "      <th>1</th>\n",
       "      <td>788917912</td>\n",
       "      <td>Pickles</td>\n",
       "      <td>F</td>\n",
       "      <td>Havanese</td>\n",
       "      <td>41376</td>\n",
       "      <td>White</td>\n",
       "      <td>Black</td>\n",
       "      <td>10128</td>\n",
       "    </tr>\n",
       "    <tr>\n",
       "      <th>2</th>\n",
       "      <td>788956064</td>\n",
       "      <td>Butter</td>\n",
       "      <td>M</td>\n",
       "      <td>German Shepherd Dog</td>\n",
       "      <td>41068</td>\n",
       "      <td>Black</td>\n",
       "      <td>Tan</td>\n",
       "      <td>10304</td>\n",
       "    </tr>\n",
       "    <tr>\n",
       "      <th>3</th>\n",
       "      <td>788974553</td>\n",
       "      <td>Pira</td>\n",
       "      <td>F</td>\n",
       "      <td>Mixed/Other</td>\n",
       "      <td>35584</td>\n",
       "      <td>Black</td>\n",
       "      <td>Gray</td>\n",
       "      <td>11218</td>\n",
       "    </tr>\n",
       "    <tr>\n",
       "      <th>4</th>\n",
       "      <td>788917962</td>\n",
       "      <td>Max</td>\n",
       "      <td>F</td>\n",
       "      <td>Yorkshire Terrier</td>\n",
       "      <td>41104</td>\n",
       "      <td>Black</td>\n",
       "      <td>Brown</td>\n",
       "      <td>11237</td>\n",
       "    </tr>\n",
       "  </tbody>\n",
       "</table>\n",
       "</div>"
      ],
      "text/plain": [
       "  registrant_ID    dog_name gender                          breed    dob  \\\n",
       "0     788905773  Shakespere      M  Labrador Retriever Crossbreed  41066   \n",
       "1     788917912     Pickles      F                       Havanese  41376   \n",
       "2     788956064      Butter      M            German Shepherd Dog  41068   \n",
       "3     788974553        Pira      F                    Mixed/Other  35584   \n",
       "4     788917962         Max      F              Yorkshire Terrier  41104   \n",
       "\n",
       "  dominant_color secondary_color zip_code  \n",
       "0          White             Tan    10308  \n",
       "1          White           Black    10128  \n",
       "2          Black             Tan    10304  \n",
       "3          Black            Gray    11218  \n",
       "4          Black           Brown    11237  "
      ]
     },
     "execution_count": 6,
     "metadata": {},
     "output_type": "execute_result"
    }
   ],
   "source": [
    "# Step 2a: Read the dataset: Registrant Profiles\n",
    "dfpro = pd.read_csv('/Users/Mac/Desktop/Greenhouse/new_tricks/registrant_profiles.csv')\n",
    "\n",
    "# Clean the header columns\n",
    "dfpro.columns = dfpro.columns.str.replace('[<,>]', '')\n",
    "\n",
    "# Clean the records\n",
    "dfpro = dfpro.replace({'<':'', '>':''}, regex=True)\n",
    "\n",
    "# Convert records to proper case\n",
    "dfpro['dog_name'] = dfpro['dog_name'].str.title()\n",
    "\n",
    "dfpro['dominant_color'] = dfpro['dominant_color'].str.title()\n",
    "\n",
    "dfpro['secondary_color'] = dfpro['secondary_color'].str.title()\n",
    "\n",
    "dfpro.head()"
   ]
  },
  {
   "cell_type": "code",
   "execution_count": 7,
   "metadata": {},
   "outputs": [
    {
     "name": "stdout",
     "output_type": "stream",
     "text": [
      "<class 'pandas.core.frame.DataFrame'>\n",
      "RangeIndex: 80537 entries, 0 to 80536\n",
      "Data columns (total 8 columns):\n",
      " #   Column           Non-Null Count  Dtype \n",
      "---  ------           --------------  ----- \n",
      " 0   registrant_ID    80537 non-null  object\n",
      " 1   dog_name         80537 non-null  object\n",
      " 2   gender           80537 non-null  object\n",
      " 3   breed            80537 non-null  object\n",
      " 4   dob              80537 non-null  object\n",
      " 5   dominant_color   80537 non-null  object\n",
      " 6   secondary_color  80537 non-null  object\n",
      " 7   zip_code         80537 non-null  object\n",
      "dtypes: object(8)\n",
      "memory usage: 4.9+ MB\n"
     ]
    }
   ],
   "source": [
    "# Review data types for the purpose of analysis\n",
    "dfpro.info()"
   ]
  },
  {
   "cell_type": "code",
   "execution_count": 8,
   "metadata": {
    "scrolled": true
   },
   "outputs": [
    {
     "name": "stdout",
     "output_type": "stream",
     "text": [
      "<class 'pandas.core.frame.DataFrame'>\n",
      "Int64Index: 80537 entries, 0 to 80536\n",
      "Data columns (total 8 columns):\n",
      " #   Column           Non-Null Count  Dtype \n",
      "---  ------           --------------  ----- \n",
      " 0   registrant_ID    80537 non-null  object\n",
      " 1   dog_name         80537 non-null  object\n",
      " 2   gender           80537 non-null  object\n",
      " 3   breed            80537 non-null  object\n",
      " 4   dob              80537 non-null  object\n",
      " 5   dominant_color   80537 non-null  object\n",
      " 6   secondary_color  80537 non-null  object\n",
      " 7   zip_code         80537 non-null  object\n",
      "dtypes: object(8)\n",
      "memory usage: 5.5+ MB\n"
     ]
    }
   ],
   "source": [
    "# Remove duplicate entries\n",
    "dfprodrop = dfpro.drop_duplicates()\n",
    "\n",
    "dfprodrop.info()"
   ]
  },
  {
   "cell_type": "code",
   "execution_count": 9,
   "metadata": {},
   "outputs": [
    {
     "data": {
      "text/html": [
       "<div>\n",
       "<style scoped>\n",
       "    .dataframe tbody tr th:only-of-type {\n",
       "        vertical-align: middle;\n",
       "    }\n",
       "\n",
       "    .dataframe tbody tr th {\n",
       "        vertical-align: top;\n",
       "    }\n",
       "\n",
       "    .dataframe thead th {\n",
       "        text-align: right;\n",
       "    }\n",
       "</style>\n",
       "<table border=\"1\" class=\"dataframe\">\n",
       "  <thead>\n",
       "    <tr style=\"text-align: right;\">\n",
       "      <th></th>\n",
       "      <th>registrant_ID</th>\n",
       "      <th>dog_name</th>\n",
       "      <th>gender</th>\n",
       "      <th>breed</th>\n",
       "      <th>dob</th>\n",
       "      <th>dominant_color</th>\n",
       "      <th>secondary_color</th>\n",
       "      <th>zip_code</th>\n",
       "    </tr>\n",
       "  </thead>\n",
       "  <tbody>\n",
       "    <tr>\n",
       "      <th>18183</th>\n",
       "      <td>#N/A</td>\n",
       "      <td></td>\n",
       "      <td></td>\n",
       "      <td></td>\n",
       "      <td>520</td>\n",
       "      <td></td>\n",
       "      <td></td>\n",
       "      <td></td>\n",
       "    </tr>\n",
       "  </tbody>\n",
       "</table>\n",
       "</div>"
      ],
      "text/plain": [
       "      registrant_ID dog_name gender breed  dob dominant_color secondary_color  \\\n",
       "18183          #N/A                        520                                  \n",
       "\n",
       "      zip_code  \n",
       "18183           "
      ]
     },
     "execution_count": 9,
     "metadata": {},
     "output_type": "execute_result"
    }
   ],
   "source": [
    "# Review missing value rows before conversion of data type\n",
    "dfpro[dfpro['zip_code'] == '']"
   ]
  },
  {
   "cell_type": "code",
   "execution_count": 10,
   "metadata": {},
   "outputs": [],
   "source": [
    "# Drop the non-value record\n",
    "dfpro = dfpro.drop(18183)"
   ]
  },
  {
   "cell_type": "code",
   "execution_count": 11,
   "metadata": {},
   "outputs": [],
   "source": [
    "# Clean the records\n",
    "dfpro = dfpro.replace({'#':''}, regex=True)\n",
    "\n",
    "dfpro = dfpro.replace({'N/A':'-'}, regex=True)"
   ]
  },
  {
   "cell_type": "code",
   "execution_count": 12,
   "metadata": {},
   "outputs": [],
   "source": [
    "# Convert columns from object to integer\n",
    "dfpro['registrant_ID'] = dfpro['registrant_ID'].astype(int)\n",
    "\n",
    "dfpro['dob'] = dfpro['dob'].astype(int)\n",
    "\n",
    "dfpro['zip_code'] = dfpro['zip_code'].astype(int)"
   ]
  },
  {
   "cell_type": "code",
   "execution_count": 13,
   "metadata": {},
   "outputs": [
    {
     "data": {
      "text/html": [
       "<div>\n",
       "<style scoped>\n",
       "    .dataframe tbody tr th:only-of-type {\n",
       "        vertical-align: middle;\n",
       "    }\n",
       "\n",
       "    .dataframe tbody tr th {\n",
       "        vertical-align: top;\n",
       "    }\n",
       "\n",
       "    .dataframe thead th {\n",
       "        text-align: right;\n",
       "    }\n",
       "</style>\n",
       "<table border=\"1\" class=\"dataframe\">\n",
       "  <thead>\n",
       "    <tr style=\"text-align: right;\">\n",
       "      <th></th>\n",
       "      <th>region_name</th>\n",
       "      <th>min_zip_code</th>\n",
       "      <th>max_zip_code</th>\n",
       "    </tr>\n",
       "  </thead>\n",
       "  <tbody>\n",
       "    <tr>\n",
       "      <th>0</th>\n",
       "      <td>Manhattan</td>\n",
       "      <td>10001</td>\n",
       "      <td>10282</td>\n",
       "    </tr>\n",
       "    <tr>\n",
       "      <th>1</th>\n",
       "      <td>Staten Island</td>\n",
       "      <td>10301</td>\n",
       "      <td>10314</td>\n",
       "    </tr>\n",
       "    <tr>\n",
       "      <th>2</th>\n",
       "      <td>Bronx</td>\n",
       "      <td>10451</td>\n",
       "      <td>10475</td>\n",
       "    </tr>\n",
       "    <tr>\n",
       "      <th>3</th>\n",
       "      <td>Queens</td>\n",
       "      <td>11004</td>\n",
       "      <td>11106</td>\n",
       "    </tr>\n",
       "    <tr>\n",
       "      <th>4</th>\n",
       "      <td>Brooklyn</td>\n",
       "      <td>11201</td>\n",
       "      <td>11249</td>\n",
       "    </tr>\n",
       "    <tr>\n",
       "      <th>5</th>\n",
       "      <td>Queens</td>\n",
       "      <td>11351</td>\n",
       "      <td>11697</td>\n",
       "    </tr>\n",
       "  </tbody>\n",
       "</table>\n",
       "</div>"
      ],
      "text/plain": [
       "     region_name  min_zip_code  max_zip_code\n",
       "0      Manhattan         10001         10282\n",
       "1  Staten Island         10301         10314\n",
       "2          Bronx         10451         10475\n",
       "3         Queens         11004         11106\n",
       "4       Brooklyn         11201         11249\n",
       "5         Queens         11351         11697"
      ]
     },
     "execution_count": 13,
     "metadata": {},
     "output_type": "execute_result"
    }
   ],
   "source": [
    "# Step 2b: Read the dataset: Zipcode Region Ranges\n",
    "dfzip = pd.read_csv('/Users/Mac/Desktop/Greenhouse/new_tricks/zipcode_region_ranges.csv')\n",
    "\n",
    "# Clean the header columns\n",
    "dfzip.columns = dfzip.columns.str.replace('[<,>]', '')\n",
    "\n",
    "# Clean the records\n",
    "dfzip = dfzip.replace({'<':'', '>':''}, regex=True)\n",
    "\n",
    "dfzip['min_zip_code'] = dfzip['min_zip_code'].astype(int)\n",
    "\n",
    "dfzip['max_zip_code'] = dfzip['max_zip_code'].astype(int)\n",
    "\n",
    "dfzip.head(6)"
   ]
  },
  {
   "cell_type": "code",
   "execution_count": 14,
   "metadata": {
    "scrolled": true
   },
   "outputs": [
    {
     "name": "stdout",
     "output_type": "stream",
     "text": [
      "<class 'pandas.core.frame.DataFrame'>\n",
      "RangeIndex: 6 entries, 0 to 5\n",
      "Data columns (total 3 columns):\n",
      " #   Column        Non-Null Count  Dtype \n",
      "---  ------        --------------  ----- \n",
      " 0   region_name   6 non-null      object\n",
      " 1   min_zip_code  6 non-null      int64 \n",
      " 2   max_zip_code  6 non-null      int64 \n",
      "dtypes: int64(2), object(1)\n",
      "memory usage: 272.0+ bytes\n"
     ]
    }
   ],
   "source": [
    "dfzip.info()"
   ]
  },
  {
   "cell_type": "code",
   "execution_count": 15,
   "metadata": {},
   "outputs": [],
   "source": [
    "# Step 3: Uncover insights\n",
    "# Question 1:\n",
    "# 1. The team wants to advertise the total number of students served on the front page of their website. \n",
    "# They were hoping to add up the total in their legacy exports but weren't sure how to work with the format. \n",
    "# It also looked like the same students were sometimes showing up more than once. Please provide the following:\n",
    "\n",
    "# a) Calculate the total number of canine students.\n",
    "# b) Describe how you dealt with the format of the files.\n",
    "# c) Explain how you arrived at the total."
   ]
  },
  {
   "cell_type": "code",
   "execution_count": 16,
   "metadata": {},
   "outputs": [
    {
     "data": {
      "text/plain": [
       "True    81539\n",
       "Name: registrant_ID, dtype: int64"
      ]
     },
     "execution_count": 16,
     "metadata": {},
     "output_type": "execute_result"
    }
   ],
   "source": [
    "# Question 1a: Calculate the total number of canine students\n",
    "\n",
    "# Check if Registrant ID is the same for both datasets\n",
    "dfregs['registrant_ID'].isin(dfpro['registrant_ID']).value_counts()"
   ]
  },
  {
   "cell_type": "code",
   "execution_count": 17,
   "metadata": {},
   "outputs": [
    {
     "name": "stdout",
     "output_type": "stream",
     "text": [
      "The total number of canine students is 81,539.\n"
     ]
    }
   ],
   "source": [
    "total_students = dfregs['ID'].nunique()\n",
    "print('The total number of canine students is {:,}.'.format(81539))"
   ]
  },
  {
   "cell_type": "markdown",
   "metadata": {},
   "source": [
    "Question 1b: Describe how you dealt with the format of the files.\n",
    "\n",
    "- To work with the files and provide analysis, it was necessary to convert each of the legacy exports to .csv format for reading into Python. Microsoft Excel was used in the process of conversion. The integral step of analysis, when working with .csv files, is the delimiter that allows for spacing within the data for easier readability. With the .csv file, all of the information is organized to be used by most programming or visualization tools. Once the conversion was complete, I brought the files into Python for analysis."
   ]
  },
  {
   "cell_type": "markdown",
   "metadata": {},
   "source": [
    "Question 1c: Explain how you arrived at the total.\n",
    "\n",
    "- In order to find the total number of canine students I first asked: which export contains the primary key for students registrations? Both Registrations and Registrant Profiles contain student information. However, given the description of the files it was clear the Registrations file was the foundation for the other exports. Within the Registrations file is the Registrant_ID column. This column informs me that every student in the system has completed the onboarding process and has been assigned an ID. This column contains the primary key that is found in the Registrant Profiles export. \n",
    "\n",
    "\n",
    "- With the Registrant ID, I checked for duplicate records and did not find any within the export. Once I knew there weren't any duplicates I compared them to the records in the Registrant Profiles export and there was a match. To check against this I found the count of unique ID's to be the same as total number of registrations."
   ]
  },
  {
   "cell_type": "code",
   "execution_count": 18,
   "metadata": {},
   "outputs": [
    {
     "data": {
      "text/html": [
       "<div>\n",
       "<style scoped>\n",
       "    .dataframe tbody tr th:only-of-type {\n",
       "        vertical-align: middle;\n",
       "    }\n",
       "\n",
       "    .dataframe tbody tr th {\n",
       "        vertical-align: top;\n",
       "    }\n",
       "\n",
       "    .dataframe thead th {\n",
       "        text-align: right;\n",
       "    }\n",
       "</style>\n",
       "<table border=\"1\" class=\"dataframe\">\n",
       "  <thead>\n",
       "    <tr style=\"text-align: right;\">\n",
       "      <th></th>\n",
       "      <th>ID</th>\n",
       "    </tr>\n",
       "  </thead>\n",
       "  <tbody>\n",
       "    <tr>\n",
       "      <th>13047</th>\n",
       "      <td>66571</td>\n",
       "    </tr>\n",
       "    <tr>\n",
       "      <th>16463</th>\n",
       "      <td>23237</td>\n",
       "    </tr>\n",
       "    <tr>\n",
       "      <th>20248</th>\n",
       "      <td>4559</td>\n",
       "    </tr>\n",
       "    <tr>\n",
       "      <th>24494</th>\n",
       "      <td>17777</td>\n",
       "    </tr>\n",
       "    <tr>\n",
       "      <th>34230</th>\n",
       "      <td>43810</td>\n",
       "    </tr>\n",
       "    <tr>\n",
       "      <th>41758</th>\n",
       "      <td>61311</td>\n",
       "    </tr>\n",
       "    <tr>\n",
       "      <th>42969</th>\n",
       "      <td>21917</td>\n",
       "    </tr>\n",
       "    <tr>\n",
       "      <th>48596</th>\n",
       "      <td>78686</td>\n",
       "    </tr>\n",
       "    <tr>\n",
       "      <th>57948</th>\n",
       "      <td>62891</td>\n",
       "    </tr>\n",
       "    <tr>\n",
       "      <th>61199</th>\n",
       "      <td>54903</td>\n",
       "    </tr>\n",
       "    <tr>\n",
       "      <th>61289</th>\n",
       "      <td>63187</td>\n",
       "    </tr>\n",
       "    <tr>\n",
       "      <th>68511</th>\n",
       "      <td>24359</td>\n",
       "    </tr>\n",
       "    <tr>\n",
       "      <th>75404</th>\n",
       "      <td>17072</td>\n",
       "    </tr>\n",
       "    <tr>\n",
       "      <th>81167</th>\n",
       "      <td>39986</td>\n",
       "    </tr>\n",
       "  </tbody>\n",
       "</table>\n",
       "</div>"
      ],
      "text/plain": [
       "          ID\n",
       "13047  66571\n",
       "16463  23237\n",
       "20248   4559\n",
       "24494  17777\n",
       "34230  43810\n",
       "41758  61311\n",
       "42969  21917\n",
       "48596  78686\n",
       "57948  62891\n",
       "61199  54903\n",
       "61289  63187\n",
       "68511  24359\n",
       "75404  17072\n",
       "81167  39986"
      ]
     },
     "execution_count": 18,
     "metadata": {},
     "output_type": "execute_result"
    }
   ],
   "source": [
    "# Question 2:\n",
    "# Next, the team is looking to kick off a campaign promoting the newly reduced rate for their Gold-level course package. \n",
    "# They want to reach out to the owners of all students who have recently registered for a Gold-Level package to see \n",
    "# if they'd be interested in being featured in the campaign.\n",
    "\n",
    "# Please use the information in the exports to create a list of \n",
    "# all of the students who have registered for a Gold Package since 1 January 2019. \n",
    "# They just need to know the students' unique ID numbers so they can look up their contact info in the system. \n",
    "# You can attach the list in any format.\n",
    "\n",
    "# Convert column from integer to date\n",
    "dfregs['registration_date'] = pd.to_datetime(dfregs['registration_date'], format='%m%d%Y')\n",
    "\n",
    "# Create variable for Gold package and Registration Date\n",
    "gold_pack = (dfregs['package'] == 'Gold') & (dfregs['registration_date'] >= '2019-01-01')\n",
    "\n",
    "# Create variable for single column output\n",
    "yearjan = dfregs.iloc[gold_pack.values,[0]]\n",
    "\n",
    "#print\n",
    "yearjan"
   ]
  },
  {
   "cell_type": "markdown",
   "metadata": {},
   "source": [
    "- Result: 14 students have registered for a Gold package since January 1st, 2019."
   ]
  },
  {
   "cell_type": "code",
   "execution_count": 19,
   "metadata": {},
   "outputs": [
    {
     "data": {
      "text/html": [
       "<div>\n",
       "<style scoped>\n",
       "    .dataframe tbody tr th:only-of-type {\n",
       "        vertical-align: middle;\n",
       "    }\n",
       "\n",
       "    .dataframe tbody tr th {\n",
       "        vertical-align: top;\n",
       "    }\n",
       "\n",
       "    .dataframe thead th {\n",
       "        text-align: right;\n",
       "    }\n",
       "</style>\n",
       "<table border=\"1\" class=\"dataframe\">\n",
       "  <thead>\n",
       "    <tr style=\"text-align: right;\">\n",
       "      <th></th>\n",
       "      <th>registrant_ID</th>\n",
       "      <th>dog_name</th>\n",
       "      <th>gender</th>\n",
       "      <th>breed</th>\n",
       "      <th>dob</th>\n",
       "      <th>dominant_color</th>\n",
       "      <th>secondary_color</th>\n",
       "      <th>zip_code</th>\n",
       "      <th>new_region</th>\n",
       "    </tr>\n",
       "  </thead>\n",
       "  <tbody>\n",
       "    <tr>\n",
       "      <th>0</th>\n",
       "      <td>788905773</td>\n",
       "      <td>Shakespere</td>\n",
       "      <td>M</td>\n",
       "      <td>Labrador Retriever Crossbreed</td>\n",
       "      <td>41066</td>\n",
       "      <td>White</td>\n",
       "      <td>Tan</td>\n",
       "      <td>10308</td>\n",
       "      <td>Bronx</td>\n",
       "    </tr>\n",
       "    <tr>\n",
       "      <th>1</th>\n",
       "      <td>788917912</td>\n",
       "      <td>Pickles</td>\n",
       "      <td>F</td>\n",
       "      <td>Havanese</td>\n",
       "      <td>41376</td>\n",
       "      <td>White</td>\n",
       "      <td>Black</td>\n",
       "      <td>10128</td>\n",
       "      <td>Staten Island</td>\n",
       "    </tr>\n",
       "    <tr>\n",
       "      <th>2</th>\n",
       "      <td>788956064</td>\n",
       "      <td>Butter</td>\n",
       "      <td>M</td>\n",
       "      <td>German Shepherd Dog</td>\n",
       "      <td>41068</td>\n",
       "      <td>Black</td>\n",
       "      <td>Tan</td>\n",
       "      <td>10304</td>\n",
       "      <td>Bronx</td>\n",
       "    </tr>\n",
       "    <tr>\n",
       "      <th>3</th>\n",
       "      <td>788974553</td>\n",
       "      <td>Pira</td>\n",
       "      <td>F</td>\n",
       "      <td>Mixed/Other</td>\n",
       "      <td>35584</td>\n",
       "      <td>Black</td>\n",
       "      <td>Gray</td>\n",
       "      <td>11218</td>\n",
       "      <td>-</td>\n",
       "    </tr>\n",
       "    <tr>\n",
       "      <th>4</th>\n",
       "      <td>788917962</td>\n",
       "      <td>Max</td>\n",
       "      <td>F</td>\n",
       "      <td>Yorkshire Terrier</td>\n",
       "      <td>41104</td>\n",
       "      <td>Black</td>\n",
       "      <td>Brown</td>\n",
       "      <td>11237</td>\n",
       "      <td>-</td>\n",
       "    </tr>\n",
       "  </tbody>\n",
       "</table>\n",
       "</div>"
      ],
      "text/plain": [
       "   registrant_ID    dog_name gender                          breed    dob  \\\n",
       "0      788905773  Shakespere      M  Labrador Retriever Crossbreed  41066   \n",
       "1      788917912     Pickles      F                       Havanese  41376   \n",
       "2      788956064      Butter      M            German Shepherd Dog  41068   \n",
       "3      788974553        Pira      F                    Mixed/Other  35584   \n",
       "4      788917962         Max      F              Yorkshire Terrier  41104   \n",
       "\n",
       "  dominant_color secondary_color  zip_code     new_region  \n",
       "0          White             Tan     10308          Bronx  \n",
       "1          White           Black     10128  Staten Island  \n",
       "2          Black             Tan     10304          Bronx  \n",
       "3          Black            Gray     11218              -  \n",
       "4          Black           Brown     11237              -  "
      ]
     },
     "execution_count": 19,
     "metadata": {},
     "output_type": "execute_result"
    }
   ],
   "source": [
    "# Question 3:\n",
    "# New Tricks also wants to grow the size of their mixed breed client base. \n",
    "# To that end, they'd like to know which branch areas are seeing the least amount of mixed-breed students coming in.\n",
    "\n",
    "## Please use the information in the exports along with the zip code region ranges table to \n",
    "# determine which two regions have the smallest percentage of registrations by \n",
    "# students classified in the system as \"Mixed/Other\". \n",
    "# They'd also like to know what methods you used to come up with the answer. \n",
    "\n",
    "# Define function for Region\n",
    "def region(zip_code):\n",
    "    if 10001 >= zip_code <= 10282:\n",
    "        return \"Manhattan\"\n",
    "    if 10301 >= zip_code <= 10314:\n",
    "        return \"Staten Island\"\n",
    "    if 10451 >= zip_code <= 10475:\n",
    "        return \"Bronx\"\n",
    "    if 11004 >= zip_code <= 11106:\n",
    "        return \"Queens\"\n",
    "    if 11201 >= zip_code <= 11249:\n",
    "        return \"Brooklyn\"\n",
    "    else:\n",
    "        return \"-\"\n",
    "    return region\n",
    "\n",
    "# Add new column\n",
    "dfpro['new_region'] = dfpro['zip_code'].apply(region)\n",
    "\n",
    "dfpro.head()"
   ]
  },
  {
   "cell_type": "code",
   "execution_count": 20,
   "metadata": {},
   "outputs": [],
   "source": [
    "# Create variable for Mixed/Other value\n",
    "mixed = dfpro['breed'] == 'Mixed/Other'"
   ]
  },
  {
   "cell_type": "code",
   "execution_count": 21,
   "metadata": {
    "scrolled": true
   },
   "outputs": [
    {
     "data": {
      "text/plain": [
       "breed  new_region\n",
       "True   Brooklyn      0.043623\n",
       "       Manhattan     0.005857\n",
       "Name: new_region, dtype: float64"
      ]
     },
     "execution_count": 21,
     "metadata": {},
     "output_type": "execute_result"
    }
   ],
   "source": [
    "# Get the distribution of Region\n",
    "dfpro.groupby(mixed)['new_region'].value_counts(normalize=True)[10:12]"
   ]
  },
  {
   "cell_type": "markdown",
   "metadata": {},
   "source": [
    "- Result: \n",
    "The two regions that have the smallest percentage of registrations are Brooklyn with 4.3% and Manhattan with .05%."
   ]
  },
  {
   "cell_type": "markdown",
   "metadata": {},
   "source": [
    "Question 4: Lastly, the team isn't entirely confident in the capabilities of their legacy system, so they just want to know if you think they can trust the information in these exports. Based on your work with the files, did you notice any red flags that might cause you to doubt the integrity of the data? Any specific details you can provide to back your answer should help to put them at ease!\n",
    "\n",
    "- The team can feel confidence in working with their legacy system. Based on my analysis there aren't any duplicate records in the two of the three exports. The duplication in the third export helped to identify another set of zip codes for a region. Also, there is a wealth of information about students and their profiles to build out the details of important business problems.\n",
    "\n",
    "\n",
    "- The team at New Tricks has data in their exports to find answers about the business but the legacy system will last only as long as it is maintained. Unfortunately, long-term maintenance of this information can be costly and the ever-changing technology lanscape demands modern practices. The services that our teams provide proof that your information is secure, follows the best practices in this modern age and most importantly, can be maintained effectively to further the goals of the business.  \n"
   ]
  }
 ],
 "metadata": {
  "kernelspec": {
   "display_name": "Python 3",
   "language": "python",
   "name": "python3"
  },
  "language_info": {
   "codemirror_mode": {
    "name": "ipython",
    "version": 3
   },
   "file_extension": ".py",
   "mimetype": "text/x-python",
   "name": "python",
   "nbconvert_exporter": "python",
   "pygments_lexer": "ipython3",
   "version": "3.8.5"
  }
 },
 "nbformat": 4,
 "nbformat_minor": 4
}
